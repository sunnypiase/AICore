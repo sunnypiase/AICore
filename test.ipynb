{
 "cells": [
  {
   "cell_type": "code",
   "execution_count": 1,
   "metadata": {},
   "outputs": [],
   "source": [
    "import pandas as pd\n",
    "import numpy as np\n",
    "from keras.models import Sequential, load_model\n",
    "from keras.layers import LSTM, Dense\n",
    "import time\n",
    "import concurrent.futures\n",
    "import matplotlib.pyplot as plt\n",
    "import matplotlib.dates as mdates\n",
    "import os\n",
    "import mplfinance as mpf\n",
    "import plotly.graph_objects as go\n",
    "import nbformat\n",
    "import plotly.io as pio\n",
    "from sklearn.preprocessing import StandardScaler\n",
    "from TradingModelTrainer import TradingModelTrainer\n",
    "from DataProvider import DataProvider\n",
    "from GeneticAlgorithm import GeneticAlgorithm\n",
    "\n"
   ]
  },
  {
   "cell_type": "code",
   "execution_count": 2,
   "metadata": {},
   "outputs": [],
   "source": [
    "def save_models(models: list[Sequential], folder: str = \"Models\"):\n",
    "    \"\"\"Save models to a specified folder.\"\"\"\n",
    "    if not os.path.exists(folder):\n",
    "        os.makedirs(folder)\n",
    "    for i, model in enumerate(models):\n",
    "        model_path = os.path.join(folder, f\"model_{i + 1}.h5\")\n",
    "        model.save(model_path)\n",
    "        print(f\"Model {i + 1} saved at {model_path}\")\n",
    "\n",
    "def load_models(model_names: list[str], folder: str = \"Models\") -> list[Sequential]:\n",
    "    \"\"\"Load models from a specified folder.\"\"\"\n",
    "    loaded_models = []\n",
    "    for model_name in model_names:\n",
    "        model_path = os.path.join(folder, model_name)\n",
    "        if os.path.exists(model_path):\n",
    "            model = load_model(model_path)\n",
    "            loaded_models.append(model)\n",
    "            print(f\"Loaded model from {model_path}\")\n",
    "        else:\n",
    "            print(f\"Model file {model_path} not found.\")\n",
    "    return loaded_models"
   ]
  },
  {
   "cell_type": "code",
   "execution_count": 3,
   "metadata": {},
   "outputs": [],
   "source": [
    "data_provider = DataProvider('Data/Binance_BTCUSDT_2024_minute.csv')\n",
    "raw_df = data_provider.get_raw_data()[:40000]\n",
    "normalized_df = data_provider.get_normalized_data()[:40000]\n"
   ]
  },
  {
   "cell_type": "code",
   "execution_count": 4,
   "metadata": {},
   "outputs": [],
   "source": [
    "TIMESTEPS = 100  # Adjust based on your data's characteristics\n",
    "FEATURES = 7    # As determined from your data\n",
    "POPULATION_SIZE = 100  # Number of models in each generation\n",
    "GENERATIONS = 20  # Number of generations for evolving models\n",
    "\n",
    "# Initialize the TradingModelTrainer\n",
    "# trainer = TradingModelTrainer(trainData=normalized_df,  # Replace with your training data DataFrame\n",
    "#                               tradeData=raw_df,  # Replace with your trading data DataFrame\n",
    "#                               initial_capital=10000,   # Example initial capital\n",
    "#                               trade_size_dollars=5000) # Example trade size\n",
    "\n",
    "# ga = GeneticAlgorithm(trainer)"
   ]
  },
  {
   "cell_type": "code",
   "execution_count": 5,
   "metadata": {},
   "outputs": [],
   "source": [
    "# population = load_models([\"model_1.h5\", \"model_2.h5\", \"model_3.h5\", \"model_4.h5\"])"
   ]
  },
  {
   "cell_type": "code",
   "execution_count": 6,
   "metadata": {},
   "outputs": [
    {
     "name": "stdout",
     "output_type": "stream",
     "text": [
      "gen: 0 / 20\n",
      "Generation 1 complete. Best Sharpe Ratio: -4.4945644630314225\n",
      "gen: 1 / 20\n",
      "Generation 2 complete. Best Sharpe Ratio: -6.784474222005307\n",
      "gen: 2 / 20\n"
     ]
    },
    {
     "ename": "ResourceExhaustedError",
     "evalue": "Graph execution error:\n\nSameWorkerRecvDone unable to allocate output tensor. Key: /job:localhost/replica:0/task:0/device:CPU:0;d9e12db2d81ba370;/job:localhost/replica:0/task:0/device:GPU:0;edge_68_IteratorGetNext;0:0\n\t [[{{node IteratorGetNext/_4}}]]\nHint: If you want to see a list of allocated tensors when OOM happens, add report_tensor_allocations_upon_oom to RunOptions for current allocation info. This isn't available when running in Eager mode.\n [Op:__inference_predict_function_1072843]",
     "output_type": "error",
     "traceback": [
      "\u001b[1;31m---------------------------------------------------------------------------\u001b[0m",
      "\u001b[1;31mResourceExhaustedError\u001b[0m                    Traceback (most recent call last)",
      "Cell \u001b[1;32mIn [6], line 22\u001b[0m\n\u001b[0;32m     19\u001b[0m         model \u001b[38;5;241m=\u001b[39m trainer\u001b[38;5;241m.\u001b[39mcreate_model(TIMESTEPS, FEATURES)\n\u001b[0;32m     20\u001b[0m         population\u001b[38;5;241m.\u001b[39mappend(model)\n\u001b[1;32m---> 22\u001b[0m final_population \u001b[38;5;241m=\u001b[39m \u001b[43mga\u001b[49m\u001b[38;5;241;43m.\u001b[39;49m\u001b[43mgenetic_algorithm\u001b[49m\u001b[43m(\u001b[49m\u001b[43mpopulation\u001b[49m\u001b[43m,\u001b[49m\u001b[43m \u001b[49m\u001b[43mGENERATIONS\u001b[49m\u001b[43m,\u001b[49m\u001b[43m \u001b[49m\u001b[43mTIMESTEPS\u001b[49m\u001b[43m,\u001b[49m\u001b[43m \u001b[49m\u001b[43mFEATURES\u001b[49m\u001b[43m)\u001b[49m\n\u001b[0;32m     23\u001b[0m save_models(final_population[:\u001b[38;5;241m5\u001b[39m], \u001b[38;5;28mstr\u001b[39m(run))\n\u001b[0;32m     24\u001b[0m run \u001b[38;5;241m+\u001b[39m\u001b[38;5;241m=\u001b[39m \u001b[38;5;241m1\u001b[39m\n",
      "File \u001b[1;32mg:\\DARVIN\\AICore\\GeneticAlgorithm.py:16\u001b[0m, in \u001b[0;36mGeneticAlgorithm.genetic_algorithm\u001b[1;34m(self, population, generations, timesteps, features)\u001b[0m\n\u001b[0;32m     14\u001b[0m \u001b[38;5;28;01mfor\u001b[39;00m generation \u001b[38;5;129;01min\u001b[39;00m \u001b[38;5;28mrange\u001b[39m(generations):\n\u001b[0;32m     15\u001b[0m     \u001b[38;5;28mprint\u001b[39m(\u001b[38;5;124m\"\u001b[39m\u001b[38;5;124mgen:\u001b[39m\u001b[38;5;124m\"\u001b[39m, generation, \u001b[38;5;124m\"\u001b[39m\u001b[38;5;124m/\u001b[39m\u001b[38;5;124m\"\u001b[39m, generations)\n\u001b[1;32m---> 16\u001b[0m     traders \u001b[38;5;241m=\u001b[39m [\u001b[38;5;28mself\u001b[39m\u001b[38;5;241m.\u001b[39mmodel_trainer\u001b[38;5;241m.\u001b[39msimulate_trading(model, timesteps) \u001b[38;5;28;01mfor\u001b[39;00m model \u001b[38;5;129;01min\u001b[39;00m population]\n\u001b[0;32m     17\u001b[0m     sharp_ratios \u001b[38;5;241m=\u001b[39m [trader\u001b[38;5;241m.\u001b[39mcalculate_sharpe_ratio() \u001b[38;5;28;01mfor\u001b[39;00m trader \u001b[38;5;129;01min\u001b[39;00m traders]\n\u001b[0;32m     19\u001b[0m     current_best_sharpe \u001b[38;5;241m=\u001b[39m \u001b[38;5;28mmax\u001b[39m(sharp_ratios)\n",
      "File \u001b[1;32mg:\\DARVIN\\AICore\\GeneticAlgorithm.py:16\u001b[0m, in \u001b[0;36m<listcomp>\u001b[1;34m(.0)\u001b[0m\n\u001b[0;32m     14\u001b[0m \u001b[38;5;28;01mfor\u001b[39;00m generation \u001b[38;5;129;01min\u001b[39;00m \u001b[38;5;28mrange\u001b[39m(generations):\n\u001b[0;32m     15\u001b[0m     \u001b[38;5;28mprint\u001b[39m(\u001b[38;5;124m\"\u001b[39m\u001b[38;5;124mgen:\u001b[39m\u001b[38;5;124m\"\u001b[39m, generation, \u001b[38;5;124m\"\u001b[39m\u001b[38;5;124m/\u001b[39m\u001b[38;5;124m\"\u001b[39m, generations)\n\u001b[1;32m---> 16\u001b[0m     traders \u001b[38;5;241m=\u001b[39m [\u001b[38;5;28;43mself\u001b[39;49m\u001b[38;5;241;43m.\u001b[39;49m\u001b[43mmodel_trainer\u001b[49m\u001b[38;5;241;43m.\u001b[39;49m\u001b[43msimulate_trading\u001b[49m\u001b[43m(\u001b[49m\u001b[43mmodel\u001b[49m\u001b[43m,\u001b[49m\u001b[43m \u001b[49m\u001b[43mtimesteps\u001b[49m\u001b[43m)\u001b[49m \u001b[38;5;28;01mfor\u001b[39;00m model \u001b[38;5;129;01min\u001b[39;00m population]\n\u001b[0;32m     17\u001b[0m     sharp_ratios \u001b[38;5;241m=\u001b[39m [trader\u001b[38;5;241m.\u001b[39mcalculate_sharpe_ratio() \u001b[38;5;28;01mfor\u001b[39;00m trader \u001b[38;5;129;01min\u001b[39;00m traders]\n\u001b[0;32m     19\u001b[0m     current_best_sharpe \u001b[38;5;241m=\u001b[39m \u001b[38;5;28mmax\u001b[39m(sharp_ratios)\n",
      "File \u001b[1;32mg:\\DARVIN\\AICore\\TradingModelTrainer.py:63\u001b[0m, in \u001b[0;36mTradingModelTrainer.simulate_trading\u001b[1;34m(self, model, timesteps)\u001b[0m\n\u001b[0;32m     60\u001b[0m prepared_data \u001b[38;5;241m=\u001b[39m \u001b[38;5;28mself\u001b[39m\u001b[38;5;241m.\u001b[39mprepare_data_for_prediction(\u001b[38;5;28mself\u001b[39m\u001b[38;5;241m.\u001b[39mtrainData, timesteps)\n\u001b[0;32m     62\u001b[0m \u001b[38;5;28;01mwith\u001b[39;00m tf\u001b[38;5;241m.\u001b[39mdevice(\u001b[38;5;124m'\u001b[39m\u001b[38;5;124m/GPU:0\u001b[39m\u001b[38;5;124m'\u001b[39m):  \u001b[38;5;66;03m# Specify the GPU device # type: ignore\u001b[39;00m\n\u001b[1;32m---> 63\u001b[0m     predictions \u001b[38;5;241m=\u001b[39m \u001b[43mmodel\u001b[49m\u001b[38;5;241;43m.\u001b[39;49m\u001b[43mpredict\u001b[49m\u001b[43m(\u001b[49m\u001b[43mprepared_data\u001b[49m\u001b[43m,\u001b[49m\u001b[43m \u001b[49m\u001b[43mbatch_size\u001b[49m\u001b[38;5;241;43m=\u001b[39;49m\u001b[38;5;241;43m256\u001b[39;49m\u001b[43m,\u001b[49m\u001b[43m \u001b[49m\u001b[43mverbose\u001b[49m\u001b[38;5;241;43m=\u001b[39;49m\u001b[38;5;124;43m\"\u001b[39;49m\u001b[38;5;124;43m0\u001b[39;49m\u001b[38;5;124;43m\"\u001b[39;49m\u001b[43m)\u001b[49m\n\u001b[0;32m     65\u001b[0m actions \u001b[38;5;241m=\u001b[39m np\u001b[38;5;241m.\u001b[39margmax(predictions, axis\u001b[38;5;241m=\u001b[39m\u001b[38;5;241m1\u001b[39m)\n\u001b[0;32m     66\u001b[0m trader \u001b[38;5;241m=\u001b[39m Trader(\u001b[38;5;28mself\u001b[39m\u001b[38;5;241m.\u001b[39mdata, \u001b[38;5;28mself\u001b[39m\u001b[38;5;241m.\u001b[39mtrade_size_dollars, \u001b[38;5;28mself\u001b[39m\u001b[38;5;241m.\u001b[39minitial_capital)\n",
      "File \u001b[1;32mg:\\Anaconda\\envs\\py310\\lib\\site-packages\\keras\\utils\\traceback_utils.py:70\u001b[0m, in \u001b[0;36mfilter_traceback.<locals>.error_handler\u001b[1;34m(*args, **kwargs)\u001b[0m\n\u001b[0;32m     67\u001b[0m     filtered_tb \u001b[38;5;241m=\u001b[39m _process_traceback_frames(e\u001b[38;5;241m.\u001b[39m__traceback__)\n\u001b[0;32m     68\u001b[0m     \u001b[38;5;66;03m# To get the full stack trace, call:\u001b[39;00m\n\u001b[0;32m     69\u001b[0m     \u001b[38;5;66;03m# `tf.debugging.disable_traceback_filtering()`\u001b[39;00m\n\u001b[1;32m---> 70\u001b[0m     \u001b[38;5;28;01mraise\u001b[39;00m e\u001b[38;5;241m.\u001b[39mwith_traceback(filtered_tb) \u001b[38;5;28;01mfrom\u001b[39;00m \u001b[38;5;28mNone\u001b[39m\n\u001b[0;32m     71\u001b[0m \u001b[38;5;28;01mfinally\u001b[39;00m:\n\u001b[0;32m     72\u001b[0m     \u001b[38;5;28;01mdel\u001b[39;00m filtered_tb\n",
      "File \u001b[1;32mg:\\Anaconda\\envs\\py310\\lib\\site-packages\\tensorflow\\python\\eager\\execute.py:54\u001b[0m, in \u001b[0;36mquick_execute\u001b[1;34m(op_name, num_outputs, inputs, attrs, ctx, name)\u001b[0m\n\u001b[0;32m     52\u001b[0m \u001b[38;5;28;01mtry\u001b[39;00m:\n\u001b[0;32m     53\u001b[0m   ctx\u001b[38;5;241m.\u001b[39mensure_initialized()\n\u001b[1;32m---> 54\u001b[0m   tensors \u001b[38;5;241m=\u001b[39m pywrap_tfe\u001b[38;5;241m.\u001b[39mTFE_Py_Execute(ctx\u001b[38;5;241m.\u001b[39m_handle, device_name, op_name,\n\u001b[0;32m     55\u001b[0m                                       inputs, attrs, num_outputs)\n\u001b[0;32m     56\u001b[0m \u001b[38;5;28;01mexcept\u001b[39;00m core\u001b[38;5;241m.\u001b[39m_NotOkStatusException \u001b[38;5;28;01mas\u001b[39;00m e:\n\u001b[0;32m     57\u001b[0m   \u001b[38;5;28;01mif\u001b[39;00m name \u001b[38;5;129;01mis\u001b[39;00m \u001b[38;5;129;01mnot\u001b[39;00m \u001b[38;5;28;01mNone\u001b[39;00m:\n",
      "\u001b[1;31mResourceExhaustedError\u001b[0m: Graph execution error:\n\nSameWorkerRecvDone unable to allocate output tensor. Key: /job:localhost/replica:0/task:0/device:CPU:0;d9e12db2d81ba370;/job:localhost/replica:0/task:0/device:GPU:0;edge_68_IteratorGetNext;0:0\n\t [[{{node IteratorGetNext/_4}}]]\nHint: If you want to see a list of allocated tensors when OOM happens, add report_tensor_allocations_upon_oom to RunOptions for current allocation info. This isn't available when running in Eager mode.\n [Op:__inference_predict_function_1072843]"
     ]
    },
    {
     "ename": "",
     "evalue": "",
     "output_type": "error",
     "traceback": [
      "\u001b[1;31mThe Kernel crashed while executing code in the current cell or a previous cell. \n",
      "\u001b[1;31mPlease review the code in the cell(s) to identify a possible cause of the failure. \n",
      "\u001b[1;31mClick <a href='https://aka.ms/vscodeJupyterKernelCrash'>here</a> for more info. \n",
      "\u001b[1;31mView Jupyter <a href='command:jupyter.viewOutput'>log</a> for further details."
     ]
    }
   ],
   "source": [
    "trainer = TradingModelTrainer(trainData=normalized_df,\n",
    "                            tradeData=raw_df,\n",
    "                            initial_capital=10000,  \n",
    "                            trade_size_dollars=5000) \n",
    "\n",
    "ga = GeneticAlgorithm(trainer)\n",
    "while ga.best_sharpe_ratio < 0:\n",
    "    run =1\n",
    "    population = []\n",
    "    if run == 1:        \n",
    "        # population = load_models([\"model_1.h5\"], \"1\")\n",
    "        for _ in range(POPULATION_SIZE):\n",
    "            model = trainer.create_model(TIMESTEPS, FEATURES)\n",
    "            population.append(model)\n",
    "    else:\n",
    "        # For subsequent runs, load models from the previous run\n",
    "        population = load_models([\"model_1.h5\", \"model_2.h5\", \"model_3.h5\", \"model_4.h5\", \"model_5.h5\"], str(run - 1))\n",
    "        for _ in range(POPULATION_SIZE):\n",
    "            model = trainer.create_model(TIMESTEPS, FEATURES)\n",
    "            population.append(model)\n",
    "\n",
    "    final_population = ga.genetic_algorithm(population, GENERATIONS, TIMESTEPS, FEATURES)\n",
    "    save_models(final_population[:5], str(run))\n",
    "    run += 1\n",
    "#prev bst\n",
    "    \n"
   ]
  },
  {
   "cell_type": "code",
   "execution_count": null,
   "metadata": {},
   "outputs": [],
   "source": [
    "learning_df = trainer.get_learning_history_df()\n",
    "learning_df"
   ]
  },
  {
   "cell_type": "code",
   "execution_count": null,
   "metadata": {},
   "outputs": [],
   "source": [
    "trainer = TradingModelTrainer(trainData=normalized_df,\n",
    "                            tradeData=raw_df,\n",
    "                            initial_capital=10000,  \n",
    "                            trade_size_dollars=5000) \n",
    "\n",
    "ga = GeneticAlgorithm(trainer)\n",
    "traders = []\n",
    "\n",
    "for model in load_models([\"model_1.h5\", \"model_2.h5\", \"model_3.h5\", \"model_4.h5\"], \"5\"):\n",
    "    trader = trainer.simulate_trading(model, TIMESTEPS)\n",
    "    traders.append(trader)"
   ]
  },
  {
   "cell_type": "code",
   "execution_count": null,
   "metadata": {},
   "outputs": [],
   "source": [
    "trader = traders[2]\n",
    "result = trader.get_trade_history_df()\n",
    "# final_population now contains the evolved models\n",
    "result"
   ]
  },
  {
   "cell_type": "code",
   "execution_count": null,
   "metadata": {},
   "outputs": [],
   "source": [
    "result.describe()"
   ]
  },
  {
   "cell_type": "code",
   "execution_count": null,
   "metadata": {},
   "outputs": [],
   "source": [
    "\n",
    "trader.calculate_sharpe_ratio()"
   ]
  },
  {
   "cell_type": "code",
   "execution_count": null,
   "metadata": {},
   "outputs": [],
   "source": [
    "trader.current_capital"
   ]
  },
  {
   "cell_type": "code",
   "execution_count": null,
   "metadata": {},
   "outputs": [],
   "source": [
    "# # Sample data for demonstration\n",
    "# import pandas as pd\n",
    "\n",
    "# from Trader import Trader\n",
    "\n",
    "\n",
    "# data = {\n",
    "#     'close': [100, 105, 110, 105, 100, 95, 90, 95, 100, 80]  # Simulated close prices\n",
    "# }\n",
    "# df = pd.DataFrame(data)\n",
    "\n",
    "# # Initialize the Trader\n",
    "# trade_size_dollars = 1000  # Trade size in dollars\n",
    "# initial_capital = 10000    # Initial capital in dollars\n",
    "# trader = Trader(df, trade_size_dollars, initial_capital)\n",
    "\n",
    "# # Define a series of actions: 0 for long, 1 for wait, 2 for short\n",
    "# actions = [0, 1, 2, 1, 1, 1, 0, 1, 1, 2]  # Example sequence of actions\n",
    "\n",
    "# # Simulate trading\n",
    "# trader.trade(actions)\n",
    "\n",
    "# # Get the trade history\n",
    "# trade_history_df = trader.get_trade_history_df()\n",
    "# trade_history_df"
   ]
  },
  {
   "cell_type": "code",
   "execution_count": null,
   "metadata": {},
   "outputs": [],
   "source": []
  },
  {
   "cell_type": "code",
   "execution_count": null,
   "metadata": {},
   "outputs": [],
   "source": []
  }
 ],
 "metadata": {
  "kernelspec": {
   "display_name": "py310",
   "language": "python",
   "name": "python3"
  },
  "language_info": {
   "codemirror_mode": {
    "name": "ipython",
    "version": 3
   },
   "file_extension": ".py",
   "mimetype": "text/x-python",
   "name": "python",
   "nbconvert_exporter": "python",
   "pygments_lexer": "ipython3",
   "version": "3.10.13"
  }
 },
 "nbformat": 4,
 "nbformat_minor": 2
}
