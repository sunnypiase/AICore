{
 "cells": [
  {
   "cell_type": "code",
   "execution_count": 1,
   "metadata": {},
   "outputs": [],
   "source": [
    "import pandas as pd\n",
    "import numpy as np\n",
    "from keras.models import Sequential, load_model\n",
    "from keras.layers import LSTM, Dense\n",
    "import time\n",
    "import concurrent.futures\n",
    "import matplotlib.pyplot as plt\n",
    "import matplotlib.dates as mdates\n",
    "import os\n",
    "import mplfinance as mpf\n",
    "import plotly.graph_objects as go\n",
    "import nbformat\n",
    "import plotly.io as pio\n",
    "from sklearn.preprocessing import StandardScaler"
   ]
  },
  {
   "cell_type": "code",
   "execution_count": 2,
   "metadata": {},
   "outputs": [],
   "source": [
    "from DataProvider import DataProvider\n"
   ]
  },
  {
   "cell_type": "code",
   "execution_count": 3,
   "metadata": {},
   "outputs": [],
   "source": [
    "data_provider = DataProvider('Data/Binance_BTCUSDT_2023_minute.csv')\n",
    "raw_df = data_provider.get_raw_data()\n",
    "normalized_df = data_provider.get_normalized_data()\n"
   ]
  },
  {
   "cell_type": "code",
   "execution_count": 4,
   "metadata": {},
   "outputs": [
    {
     "data": {
      "text/html": [
       "<div>\n",
       "<style scoped>\n",
       "    .dataframe tbody tr th:only-of-type {\n",
       "        vertical-align: middle;\n",
       "    }\n",
       "\n",
       "    .dataframe tbody tr th {\n",
       "        vertical-align: top;\n",
       "    }\n",
       "\n",
       "    .dataframe thead th {\n",
       "        text-align: right;\n",
       "    }\n",
       "</style>\n",
       "<table border=\"1\" class=\"dataframe\">\n",
       "  <thead>\n",
       "    <tr style=\"text-align: right;\">\n",
       "      <th></th>\n",
       "      <th>open</th>\n",
       "      <th>high</th>\n",
       "      <th>low</th>\n",
       "      <th>close</th>\n",
       "      <th>volume</th>\n",
       "      <th>volume_from</th>\n",
       "      <th>tradecount</th>\n",
       "    </tr>\n",
       "  </thead>\n",
       "  <tbody>\n",
       "    <tr>\n",
       "      <th>count</th>\n",
       "      <td>525517.000000</td>\n",
       "      <td>525517.000000</td>\n",
       "      <td>525517.000000</td>\n",
       "      <td>525517.000000</td>\n",
       "      <td>525517.000000</td>\n",
       "      <td>525517.000000</td>\n",
       "      <td>525517.000000</td>\n",
       "    </tr>\n",
       "    <tr>\n",
       "      <th>mean</th>\n",
       "      <td>28803.832840</td>\n",
       "      <td>28811.735277</td>\n",
       "      <td>28795.828173</td>\n",
       "      <td>28803.881842</td>\n",
       "      <td>3.320921</td>\n",
       "      <td>13.487693</td>\n",
       "      <td>6.747688</td>\n",
       "    </tr>\n",
       "    <tr>\n",
       "      <th>std</th>\n",
       "      <td>5882.314843</td>\n",
       "      <td>5883.514967</td>\n",
       "      <td>5880.963863</td>\n",
       "      <td>5882.318891</td>\n",
       "      <td>1.317859</td>\n",
       "      <td>1.337235</td>\n",
       "      <td>1.141318</td>\n",
       "    </tr>\n",
       "    <tr>\n",
       "      <th>min</th>\n",
       "      <td>16506.040000</td>\n",
       "      <td>16508.730000</td>\n",
       "      <td>16499.010000</td>\n",
       "      <td>16505.870000</td>\n",
       "      <td>0.000000</td>\n",
       "      <td>0.000000</td>\n",
       "      <td>0.000000</td>\n",
       "    </tr>\n",
       "    <tr>\n",
       "      <th>25%</th>\n",
       "      <td>25921.990000</td>\n",
       "      <td>25928.050000</td>\n",
       "      <td>25915.990000</td>\n",
       "      <td>25922.000000</td>\n",
       "      <td>2.345930</td>\n",
       "      <td>12.554972</td>\n",
       "      <td>5.897154</td>\n",
       "    </tr>\n",
       "    <tr>\n",
       "      <th>50%</th>\n",
       "      <td>27718.300000</td>\n",
       "      <td>27728.210000</td>\n",
       "      <td>27709.440000</td>\n",
       "      <td>27718.250000</td>\n",
       "      <td>3.124975</td>\n",
       "      <td>13.410548</td>\n",
       "      <td>6.469250</td>\n",
       "    </tr>\n",
       "    <tr>\n",
       "      <th>75%</th>\n",
       "      <td>30286.120000</td>\n",
       "      <td>30290.010000</td>\n",
       "      <td>30282.000000</td>\n",
       "      <td>30286.130000</td>\n",
       "      <td>4.269519</td>\n",
       "      <td>14.431777</td>\n",
       "      <td>7.537430</td>\n",
       "    </tr>\n",
       "    <tr>\n",
       "      <th>max</th>\n",
       "      <td>44687.790000</td>\n",
       "      <td>44700.000000</td>\n",
       "      <td>44634.520000</td>\n",
       "      <td>44687.800000</td>\n",
       "      <td>8.679104</td>\n",
       "      <td>18.798813</td>\n",
       "      <td>11.583533</td>\n",
       "    </tr>\n",
       "  </tbody>\n",
       "</table>\n",
       "</div>"
      ],
      "text/plain": [
       "                open           high            low          close  \\\n",
       "count  525517.000000  525517.000000  525517.000000  525517.000000   \n",
       "mean    28803.832840   28811.735277   28795.828173   28803.881842   \n",
       "std      5882.314843    5883.514967    5880.963863    5882.318891   \n",
       "min     16506.040000   16508.730000   16499.010000   16505.870000   \n",
       "25%     25921.990000   25928.050000   25915.990000   25922.000000   \n",
       "50%     27718.300000   27728.210000   27709.440000   27718.250000   \n",
       "75%     30286.120000   30290.010000   30282.000000   30286.130000   \n",
       "max     44687.790000   44700.000000   44634.520000   44687.800000   \n",
       "\n",
       "              volume    volume_from     tradecount  \n",
       "count  525517.000000  525517.000000  525517.000000  \n",
       "mean        3.320921      13.487693       6.747688  \n",
       "std         1.317859       1.337235       1.141318  \n",
       "min         0.000000       0.000000       0.000000  \n",
       "25%         2.345930      12.554972       5.897154  \n",
       "50%         3.124975      13.410548       6.469250  \n",
       "75%         4.269519      14.431777       7.537430  \n",
       "max         8.679104      18.798813      11.583533  "
      ]
     },
     "execution_count": 4,
     "metadata": {},
     "output_type": "execute_result"
    }
   ],
   "source": [
    "raw_df.describe()"
   ]
  },
  {
   "cell_type": "code",
   "execution_count": 5,
   "metadata": {},
   "outputs": [
    {
     "data": {
      "text/html": [
       "<div>\n",
       "<style scoped>\n",
       "    .dataframe tbody tr th:only-of-type {\n",
       "        vertical-align: middle;\n",
       "    }\n",
       "\n",
       "    .dataframe tbody tr th {\n",
       "        vertical-align: top;\n",
       "    }\n",
       "\n",
       "    .dataframe thead th {\n",
       "        text-align: right;\n",
       "    }\n",
       "</style>\n",
       "<table border=\"1\" class=\"dataframe\">\n",
       "  <thead>\n",
       "    <tr style=\"text-align: right;\">\n",
       "      <th></th>\n",
       "      <th>open</th>\n",
       "      <th>high</th>\n",
       "      <th>low</th>\n",
       "      <th>close</th>\n",
       "      <th>volume</th>\n",
       "      <th>volume_from</th>\n",
       "      <th>tradecount</th>\n",
       "    </tr>\n",
       "  </thead>\n",
       "  <tbody>\n",
       "    <tr>\n",
       "      <th>count</th>\n",
       "      <td>5.255170e+05</td>\n",
       "      <td>5.255170e+05</td>\n",
       "      <td>5.255170e+05</td>\n",
       "      <td>5.255170e+05</td>\n",
       "      <td>5.255170e+05</td>\n",
       "      <td>5.255170e+05</td>\n",
       "      <td>5.255170e+05</td>\n",
       "    </tr>\n",
       "    <tr>\n",
       "      <th>mean</th>\n",
       "      <td>-1.124068e-15</td>\n",
       "      <td>7.961066e-16</td>\n",
       "      <td>5.313146e-16</td>\n",
       "      <td>1.213197e-15</td>\n",
       "      <td>6.572206e-16</td>\n",
       "      <td>-5.603033e-16</td>\n",
       "      <td>-1.251488e-15</td>\n",
       "    </tr>\n",
       "    <tr>\n",
       "      <th>std</th>\n",
       "      <td>1.000001e+00</td>\n",
       "      <td>1.000001e+00</td>\n",
       "      <td>1.000001e+00</td>\n",
       "      <td>1.000001e+00</td>\n",
       "      <td>1.000001e+00</td>\n",
       "      <td>1.000001e+00</td>\n",
       "      <td>1.000001e+00</td>\n",
       "    </tr>\n",
       "    <tr>\n",
       "      <th>min</th>\n",
       "      <td>-2.090640e+00</td>\n",
       "      <td>-2.091100e+00</td>\n",
       "      <td>-2.090955e+00</td>\n",
       "      <td>-2.090676e+00</td>\n",
       "      <td>-2.519940e+00</td>\n",
       "      <td>-1.008627e+01</td>\n",
       "      <td>-5.912194e+00</td>\n",
       "    </tr>\n",
       "    <tr>\n",
       "      <th>25%</th>\n",
       "      <td>-4.899169e-01</td>\n",
       "      <td>-4.901301e-01</td>\n",
       "      <td>-4.896886e-01</td>\n",
       "      <td>-4.899232e-01</td>\n",
       "      <td>-7.398307e-01</td>\n",
       "      <td>-6.975006e-01</td>\n",
       "      <td>-7.452217e-01</td>\n",
       "    </tr>\n",
       "    <tr>\n",
       "      <th>50%</th>\n",
       "      <td>-1.845420e-01</td>\n",
       "      <td>-1.841631e-01</td>\n",
       "      <td>-1.847298e-01</td>\n",
       "      <td>-1.845587e-01</td>\n",
       "      <td>-1.486857e-01</td>\n",
       "      <td>-5.768962e-02</td>\n",
       "      <td>-2.439618e-01</td>\n",
       "    </tr>\n",
       "    <tr>\n",
       "      <th>75%</th>\n",
       "      <td>2.519907e-01</td>\n",
       "      <td>2.512573e-01</td>\n",
       "      <td>2.527091e-01</td>\n",
       "      <td>2.519839e-01</td>\n",
       "      <td>7.198032e-01</td>\n",
       "      <td>7.059977e-01</td>\n",
       "      <td>6.919566e-01</td>\n",
       "    </tr>\n",
       "    <tr>\n",
       "      <th>max</th>\n",
       "      <td>2.700293e+00</td>\n",
       "      <td>2.700474e+00</td>\n",
       "      <td>2.693216e+00</td>\n",
       "      <td>2.700284e+00</td>\n",
       "      <td>4.065829e+00</td>\n",
       "      <td>3.971723e+00</td>\n",
       "      <td>4.237074e+00</td>\n",
       "    </tr>\n",
       "  </tbody>\n",
       "</table>\n",
       "</div>"
      ],
      "text/plain": [
       "               open          high           low         close        volume  \\\n",
       "count  5.255170e+05  5.255170e+05  5.255170e+05  5.255170e+05  5.255170e+05   \n",
       "mean  -1.124068e-15  7.961066e-16  5.313146e-16  1.213197e-15  6.572206e-16   \n",
       "std    1.000001e+00  1.000001e+00  1.000001e+00  1.000001e+00  1.000001e+00   \n",
       "min   -2.090640e+00 -2.091100e+00 -2.090955e+00 -2.090676e+00 -2.519940e+00   \n",
       "25%   -4.899169e-01 -4.901301e-01 -4.896886e-01 -4.899232e-01 -7.398307e-01   \n",
       "50%   -1.845420e-01 -1.841631e-01 -1.847298e-01 -1.845587e-01 -1.486857e-01   \n",
       "75%    2.519907e-01  2.512573e-01  2.527091e-01  2.519839e-01  7.198032e-01   \n",
       "max    2.700293e+00  2.700474e+00  2.693216e+00  2.700284e+00  4.065829e+00   \n",
       "\n",
       "        volume_from    tradecount  \n",
       "count  5.255170e+05  5.255170e+05  \n",
       "mean  -5.603033e-16 -1.251488e-15  \n",
       "std    1.000001e+00  1.000001e+00  \n",
       "min   -1.008627e+01 -5.912194e+00  \n",
       "25%   -6.975006e-01 -7.452217e-01  \n",
       "50%   -5.768962e-02 -2.439618e-01  \n",
       "75%    7.059977e-01  6.919566e-01  \n",
       "max    3.971723e+00  4.237074e+00  "
      ]
     },
     "execution_count": 5,
     "metadata": {},
     "output_type": "execute_result"
    }
   ],
   "source": [
    "normalized_df.describe()"
   ]
  },
  {
   "cell_type": "code",
   "execution_count": 7,
   "metadata": {},
   "outputs": [
    {
     "data": {
      "image/png": "[encoded data removed]",
      "text/plain": [
       "<Figure size 1200x700 with 9 Axes>"
      ]
     },
     "metadata": {},
     "output_type": "display_data"
    }
   ],
   "source": [
    "normalized_df.hist(figsize=(12, 7), bins=50)\n",
    "plt.show()"
   ]
  },
  {
   "cell_type": "code",
   "execution_count": 15,
   "metadata": {},
   "outputs": [
    {
     "name": "stdout",
     "output_type": "stream",
     "text": [
      "   index  entry_price  exit_price  type  contracts  profit_loss\n",
      "0      0          100         110  long       10.0    90.909091\n"
     ]
    }
   ],
   "source": []
  },
  {
   "cell_type": "code",
   "execution_count": 4,
   "metadata": {},
   "outputs": [
    {
     "name": "stdout",
     "output_type": "stream",
     "text": [
      "   index  entry_price  exit_price   type  contracts  profit_loss\n",
      "0      0          100       110.0   long  10.000000   100.000000\n",
      "1      2          110       105.0  short   9.090909    45.454545\n",
      "2      9          105         NaN   long   9.523810          NaN\n"
     ]
    }
   ],
   "source": [
    "# Sample data for demonstration\n",
    "import pandas as pd\n",
    "\n",
    "from Trader import Trader\n",
    "\n",
    "\n",
    "data = {\n",
    "    'close': [100, 105, 110, 105, 100, 95, 90, 95, 100, 105]  # Simulated close prices\n",
    "}\n",
    "df = pd.DataFrame(data)\n",
    "\n",
    "# Initialize the Trader\n",
    "trade_size_dollars = 1000  # Trade size in dollars\n",
    "initial_capital = 10000    # Initial capital in dollars\n",
    "trader = Trader(df, trade_size_dollars, initial_capital)\n",
    "\n",
    "# Define a series of actions: 0 for long, 1 for wait, 2 for short\n",
    "actions = [0, 1, 2, 1, 1, 1, 1, 1, 1, 0]  # Example sequence of actions\n",
    "\n",
    "# Simulate trading\n",
    "for action in actions:\n",
    "    result, done = trader.step(action)\n",
    "    if done:\n",
    "        break\n",
    "\n",
    "# Get the trade history\n",
    "trade_history_df = trader.get_trade_history_df()\n",
    "print(trade_history_df)\n"
   ]
  },
  {
   "cell_type": "code",
   "execution_count": 5,
   "metadata": {},
   "outputs": [
    {
     "data": {
      "text/plain": [
       "10145.454545454546"
      ]
     },
     "execution_count": 5,
     "metadata": {},
     "output_type": "execute_result"
    }
   ],
   "source": [
    "trader.current_capital"
   ]
  },
  {
   "cell_type": "code",
   "execution_count": null,
   "metadata": {},
   "outputs": [],
   "source": []
  }
 ],
 "metadata": {
  "kernelspec": {
   "display_name": "py310",
   "language": "python",
   "name": "python3"
  },
  "language_info": {
   "codemirror_mode": {
    "name": "ipython",
    "version": 3
   },
   "file_extension": ".py",
   "mimetype": "text/x-python",
   "name": "python",
   "nbconvert_exporter": "python",
   "pygments_lexer": "ipython3",
   "version": "3.10.13"
  }
 },
 "nbformat": 4,
 "nbformat_minor": 2
}
